{
  "nbformat": 4,
  "nbformat_minor": 0,
  "metadata": {
    "colab": {
      "provenance": [],
      "collapsed_sections": [],
      "authorship_tag": "ABX9TyMy0pV+oEp2F8dAjuokUpXX",
      "include_colab_link": true
    },
    "kernelspec": {
      "name": "python3",
      "display_name": "Python 3"
    },
    "language_info": {
      "name": "python"
    }
  },
  "cells": [
    {
      "cell_type": "markdown",
      "metadata": {
        "id": "view-in-github",
        "colab_type": "text"
      },
      "source": [
        "<a href=\"https://colab.research.google.com/github/Otgonbtr/Dive_into_code/blob/main/Fuji_paper_folding_problem.ipynb\" target=\"_parent\"><img src=\"https://colab.research.google.com/assets/colab-badge.svg\" alt=\"Open In Colab\"/></a>"
      ]
    },
    {
      "cell_type": "markdown",
      "source": [
        "Question 1 : How many times do you need to fold to exceed Mt. Fuji?"
      ],
      "metadata": {
        "id": "JVX71R4qlAsO"
      }
    },
    {
      "cell_type": "code",
      "execution_count": 60,
      "metadata": {
        "colab": {
          "base_uri": "https://localhost:8080/"
        },
        "id": "5St0PomQkqsO",
        "outputId": "fae5500f-e261-4986-f6ed-beeb1a7342af"
      },
      "outputs": [
        {
          "output_type": "stream",
          "name": "stdout",
          "text": [
            "26\n"
          ]
        }
      ],
      "source": [
        "t0 = 0.00008\n",
        "fold = 0\n",
        "h=3776\n",
        "while(1):\n",
        "  if(t0<=h):\n",
        "    t0 = t0+t0\n",
        "    fold=fold+1\n",
        "  else:\n",
        "    break\n",
        "print(fold)\n",
        "  \n"
      ]
    },
    {
      "cell_type": "markdown",
      "source": [
        "Problem 2: Function for arbitrary thickness.\n"
      ],
      "metadata": {
        "id": "8lOQJ4G8kt_Q"
      }
    },
    {
      "cell_type": "code",
      "source": [
        "def Fuji_peper_folding(t0=0.00008,m=3776):\n",
        "  fold = 0\n",
        "  while(1):\n",
        "    if(t0<=m):\n",
        "      t0 = t0+t0\n",
        "      fold = fold+1\n",
        "    else :\n",
        "      break\n",
        "  return fold\n",
        "\n",
        "fold=Fuji_peper_folding(0.00008 , 4.0175*10**16)\n",
        "print(fold)"
      ],
      "metadata": {
        "colab": {
          "base_uri": "https://localhost:8080/"
        },
        "id": "XlbecyhDptpO",
        "outputId": "6cd4ce53-1f34-409e-8f72-176bf9f9ebea"
      },
      "execution_count": 62,
      "outputs": [
        {
          "output_type": "stream",
          "name": "stdout",
          "text": [
            "69\n"
          ]
        }
      ]
    },
    {
      "cell_type": "markdown",
      "source": [
        "Problem 3 Required paper length"
      ],
      "metadata": {
        "id": "Dw5VhgVc0isM"
      }
    },
    {
      "cell_type": "code",
      "source": [
        "def peper_folding_length(m):\n",
        "  def Fuji_peper_folding(m): \n",
        "    fold = 0\n",
        "    t0 = 0.00008\n",
        "    while(1):\n",
        "      if(t0<=m):\n",
        "        t0 = t0+t0\n",
        "        fold = fold+1\n",
        "      else :\n",
        "        break\n",
        "    return fold\n",
        "  n=Fuji_peper_folding(m)\n",
        "  l = (int)(3.14159*t0/6*((2**n)+4)*((2**n)-1))\n",
        "  return l\n",
        "fuji_m = 3776\n",
        "moon_km = 384400 \n",
        "non_solar_star = 4.0175*10**16\n",
        "l_Mt_Fuji = peper_folding_length(fuji_m)\n",
        "l_Moon = peper_folding_length(moon_km)\n",
        "l_non_solar_star = peper_folding_length(non_solar_star)\n",
        "print(\"{} km of paper folded will reach the Mt. Fuji.\".format(l_Mt_Fuji/1000))\n",
        "print(\"{} km of paper folded will reach the moon.\".format(l_Moon))\n",
        "print(\"{}times*10^16 of paper folded will reach the Proxima Centauri.\".format(l_non_solar_star/10**16))"
      ],
      "metadata": {
        "colab": {
          "base_uri": "https://localhost:8080/"
        },
        "id": "mVx6ovBE3UdX",
        "outputId": "8ab95d3c-f1f1-4629-b565-2a5fc733128e"
      },
      "execution_count": 71,
      "outputs": [
        {
          "output_type": "stream",
          "name": "stdout",
          "text": [
            "1.2659831451415608e+16 km of paper folded will reach the Mt. Fuji.\n",
            "207418669300096522256384 km of paper folded will reach the moon.\n",
            "9.7950697148211e+28times*10^16 of paper folded will reach the Proxima Centauri.\n"
          ]
        }
      ]
    }
  ]
}