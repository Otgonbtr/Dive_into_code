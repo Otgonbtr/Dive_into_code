{
  "nbformat": 4,
  "nbformat_minor": 0,
  "metadata": {
    "colab": {
      "provenance": [],
      "collapsed_sections": [],
      "authorship_tag": "ABX9TyPE6FULacD+Eib0KjFS1lhd",
      "include_colab_link": true
    },
    "kernelspec": {
      "name": "python3",
      "display_name": "Python 3"
    },
    "language_info": {
      "name": "python"
    }
  },
  "cells": [
    {
      "cell_type": "markdown",
      "metadata": {
        "id": "view-in-github",
        "colab_type": "text"
      },
      "source": [
        "<a href=\"https://colab.research.google.com/github/Otgonbtr/Dive_into_code/blob/main/Chestnut_manju_problem.ipynb\" target=\"_parent\"><img src=\"https://colab.research.google.com/assets/colab-badge.svg\" alt=\"Open In Colab\"/></a>"
      ]
    },
    {
      "cell_type": "markdown",
      "source": [
        "problem : The day when chestnut buns cover the solar system."
      ],
      "metadata": {
        "id": "DODhj3leF-d0"
      }
    },
    {
      "cell_type": "code",
      "execution_count": 132,
      "metadata": {
        "colab": {
          "base_uri": "https://localhost:8080/",
          "height": 390
        },
        "id": "kkK-QXFQFu60",
        "outputId": "d0fcc6d6-4cde-405f-92a8-ce909cfd3850"
      },
      "outputs": [
        {
          "output_type": "stream",
          "name": "stdout",
          "text": [
            "After 10.916666666666666 times, the solar system will be filled.\n"
          ]
        },
        {
          "output_type": "display_data",
          "data": {
            "text/plain": [
              "<Figure size 576x396 with 1 Axes>"
            ],
            "image/png": "[encoded data removed]"
          },
          "metadata": {}
        }
      ],
      "source": [
        "import numpy as np\n",
        "import matplotlib.pyplot as plt\n",
        "import matplotlib.style\n",
        "def Byvine(volumeM,volumeN):\n",
        "  time0 = 0\n",
        "  i=0\n",
        "  v = []\n",
        "  while(1):\n",
        "    if(volumeM<=volumeN):\n",
        "      time0 = time0+5\n",
        "      v.append(volumeM)\n",
        "      volumeM *=2\n",
        "    else:\n",
        "      return time0,v\n",
        "\n",
        "\n",
        "# Sun up to Neptune - 4.5 billion kilometers.\n",
        "solar_sys_radius = 4500000000\n",
        "solar_sys_volume = 4/3*3.14*(solar_sys_radius**3)\n",
        "\n",
        "# chestnut_bun_radius - 4cm\n",
        "chestnut_bun_radius = 0.0004\n",
        "chestnut_bun_volume = 4/3*3.14*(chestnut_bun_radius**3)\n",
        "\n",
        "# use function.\n",
        "time, volumeM = Byvine(chestnut_bun_volume,solar_sys_volume)\n",
        "\n",
        "print(\"After {} times, the solar system will be filled.\".format(time/60))\n",
        "\n",
        "matplotlib.style.use('seaborn')\n",
        "x = np.array(np.arange(0,time,5))\n",
        "y = volumeM\n",
        "fig,ax = plt.subplots()\n",
        "ax.set_xlabel('minuts')\n",
        "ax.set_ylabel('Volume')\n",
        "ax.plot(x,y, color='r')\n",
        "plt.show()"
      ]
    }
  ]
}