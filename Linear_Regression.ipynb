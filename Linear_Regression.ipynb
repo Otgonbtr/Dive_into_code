{
  "nbformat": 4,
  "nbformat_minor": 0,
  "metadata": {
    "colab": {
      "provenance": [],
      "authorship_tag": "ABX9TyOQMY125uzOpKPT9A03rq6j",
      "include_colab_link": true
    },
    "kernelspec": {
      "name": "python3",
      "display_name": "Python 3"
    },
    "language_info": {
      "name": "python"
    }
  },
  "cells": [
    {
      "cell_type": "markdown",
      "metadata": {
        "id": "view-in-github",
        "colab_type": "text"
      },
      "source": [
        "<a href=\"https://colab.research.google.com/github/Otgonbtr/Dive_into_code/blob/main/Linear_Regression.ipynb\" target=\"_parent\"><img src=\"https://colab.research.google.com/assets/colab-badge.svg\" alt=\"Open In Colab\"/></a>"
      ]
    },
    {
      "cell_type": "code",
      "execution_count": null,
      "metadata": {
        "id": "kOgptNlpYoQU"
      },
      "outputs": [],
      "source": [
        "class ScratchLinearRegression():\n",
        "    \"\"\"\n",
        "    Scratch implementation of linear regression\n",
        "    \n",
        "    Parameters\n",
        "    ----------\n",
        "    num_iter : int\n",
        "      Number of iterations\n",
        "    lr : float\n",
        "      Learning rate\n",
        "    no_bias : bool\n",
        "      True if the bias term is not included\n",
        "    verbose : bool\n",
        "      学習過程を出力する場合はTrue\n",
        "    \n",
        "    Attributes\n",
        "    ----------\n",
        "    self.coef_ : 次の形のndarray, shape (n_features,)\n",
        "      パラメータ\n",
        "    self.loss : 次の形のndarray, shape (self.iter,)\n",
        "      訓練データに対する損失の記録\n",
        "    self.val_loss : 次の形のndarray, shape (self.iter,)\n",
        "      検証データに対する損失の記録\n",
        "    \"\"\"\n",
        "    \n",
        "    def __init__(self, num_iter, lr, no_bias, verbose):\n",
        "        # Record hyperparameters as attributes\n",
        "        self.iter = num_iter\n",
        "        self.lr = lr\n",
        "        self.no_bias = no_bias\n",
        "        self.verbose = verbose\n",
        "        # Prepare an array to record losses\n",
        "        self.loss = np.zeros(self.iter)\n",
        "        self.val_loss = np.zeros(self.iter)\n",
        "        \n",
        "    def fit(self, X, y, X_val, y_val, no_bias=False, verbose=False ):\n",
        "        \"\"\"\n",
        "        線形回帰を学習する。検証データが入力された場合はそれに対する損失と精度もイテレーションごとに計算する。\n",
        "        Parameters\n",
        "        ----------\n",
        "        X : 次の形のndarray, shape (n_samples, n_features)\n",
        "            訓練データの特徴量\n",
        "        y : 次の形のndarray, shape (n_samples, )\n",
        "            訓練データの正解値\n",
        "        X_val : 次の形のndarray, shape (n_samples, n_features)\n",
        "            検証データの特徴量\n",
        "        y_val : 次の形のndarray, shape (n_samples, )\n",
        "            検証データの正解値\n",
        "        \"\"\"\n",
        "        if self.no_bias == True:\n",
        "\t          bias = np.ones((X.shape[0], 1))\n",
        "\t          X = np.hstack((bias, X))\n",
        "\t          bias = np.ones((X_val.shape[0], 1))\n",
        "\t          X_val = np.hstack((bias, X_val))\n",
        "        self.theta = np.zeros(X.shape[1])\n",
        "        self.theta = self.theta.reshape(X.shape[1], 1)\n",
        "        for i in range(self.iter):\n",
        "            pred = self.linear_hypothesis(X)\n",
        "            pred_val = self.linear_hypothesis(X_val)\n",
        "            self._gradient_descent(X, y)\n",
        "            loss = self._loss_func(pred, y)\n",
        "            self.loss = np.append(self.loss, loss)\n",
        "            loss_val = self._loss_func(pred_val, y_val)\n",
        "            self.val_loss = np.append(self.val_loss, loss_val)\n",
        "            if verbose == True:\n",
        "              print('{} learning loss is {}'.format(i,loss))\n",
        "    \n",
        "\n",
        "    def linear_hypothesis(self, X):\n",
        "        \"\"\"\n",
        "        仮定関数の出力を計算する\n",
        "          Parameters\n",
        "          ----------\n",
        "          X : 次の形のndarray, shape (n_samples, n_features)\n",
        "            訓練データ\n",
        "          Returns\n",
        "          -------\n",
        "          次の形のndarray, shape (n_samples, 1)\n",
        "          線形の仮定関数による推定結果\n",
        "          \"\"\"\n",
        "        pred = X @ self.theta\n",
        "        return pred\n",
        "\n",
        "\n",
        "    def _gradient_descent(self,X,y):\n",
        "        \"\"\"\n",
        "        最急降下法によるパラメータの更新値計算\n",
        "        \"\"\"\n",
        "        m = X.shape[0]\n",
        "        n = X.shape[1]\n",
        "        pred = self.linear_hypothesis(X)\n",
        "        for j in range(n):\n",
        "            gradient = 0\n",
        "            for i in range(m):\n",
        "              gradient += (pred[i] - y[i]) * X[i, j]\n",
        "            self.theta[j] = self.theta[j] - self.lr * (gradient / m)\n",
        "        \n",
        "    def predict(self, X,no_bias=False):\n",
        "        \"\"\"\n",
        "        線形回帰を使い推定する。\n",
        "        Parameters\n",
        "        ----------\n",
        "        X : 次の形のndarray, shape (n_samples, n_features)\n",
        "            サンプル\n",
        "        Returns\n",
        "        -------\n",
        "            次の形のndarray, shape (n_samples, 1)\n",
        "            線形回帰による推定結果\n",
        "        \"\"\"\n",
        "        if self.no_bias == True:\n",
        "            bias = np.ones(X.shape[0]).reshape(X.shape[0], 1)\n",
        "            X = np.hstack([bias, X])\n",
        "        pred_y = self.linear_hypothesis(X)\n",
        "        return pred_y\n",
        "\n",
        "        \n",
        "\n",
        "\n",
        "    def _mse(self,y_pred,y,X):\n",
        "        \"\"\"\n",
        "        平均二乗誤差の計算\n",
        "        \"\"\"\n",
        "        mse = ((y_pred - y) ** 2).sum() / X.shape[0]\n",
        "        return mse\n",
        "\n",
        "    def _loss_func(self,y_pred,y):\n",
        "        \"\"\"\n",
        "        損失関数\n",
        "        \"\"\"\n",
        "        loss = self._mse(y_pred, y,X)/2\n",
        "        return loss"
      ]
    },
    {
      "cell_type": "code",
      "source": [
        "import numpy as np\n",
        "import pandas as pd\n",
        "from sklearn.model_selection import train_test_split\n",
        "from sklearn.preprocessing import StandardScaler\n",
        "from sklearn.metrics import mean_squared_error\n",
        "from sklearn.linear_model import LinearRegression\n",
        "\n",
        "dataset = pd.read_csv(\"train.csv\")\n",
        "X = dataset.loc[:, ['GrLivArea', 'YearBuilt']]\n",
        "y = dataset.loc[:, ['SalePrice']]\n",
        "X = X.values\n",
        "y = y.values\n",
        "X_train, X_test, y_train, y_test = train_test_split(X, y, train_size=0.7, random_state=123)\n",
        "\n",
        "scaler = StandardScaler()\n",
        "X_train = scaler.fit_transform(X_train)\n",
        "X_test = scaler.fit_transform(X_test)"
      ],
      "metadata": {
        "id": "jha-Z8uymyFZ"
      },
      "execution_count": null,
      "outputs": []
    },
    {
      "cell_type": "code",
      "source": [
        "slr = ScratchLinearRegression(num_iter=1000, lr=0.01, no_bias=True, verbose=True)\n",
        "slr.fit(X_train, y_train, X_test, y_test, verbose=True)"
      ],
      "metadata": {
        "id": "fZW2KlL3nIbE"
      },
      "execution_count": null,
      "outputs": []
    },
    {
      "cell_type": "code",
      "source": [
        "pred = slr.predict(X_test)\n",
        "conflict = mean_squared_error(y_test, pred)\n",
        "print(\"MSE of ScratchLinearRegression:{}\".format(conflict))\n",
        "\n",
        "\n",
        "reg = LinearRegression().fit(X_train, y_train)\n",
        "pred = reg.predict(X_test)\n",
        "conflict = mean_squared_error(y_test, pred)\n",
        "print(\"MSE of sklearn Linear Regression:{}\".format(conflict))"
      ],
      "metadata": {
        "colab": {
          "base_uri": "https://localhost:8080/"
        },
        "id": "PCLXQ-bTnMlE",
        "outputId": "870acb4e-7cb3-4e8e-ceda-5c6f7ff51672"
      },
      "execution_count": null,
      "outputs": [
        {
          "output_type": "stream",
          "name": "stdout",
          "text": [
            "MSE of ScratchLinearRegression:1796867628.5140812\n",
            "MSE of sklearn Linear Regression:1796799357.5447416\n"
          ]
        }
      ]
    },
    {
      "cell_type": "code",
      "source": [
        "#--------Problem 7-----------#\n",
        "import matplotlib.pyplot as plt\n",
        "%matplotlib inline\n",
        "plt.plot(slr.loss, label = 'Training loss')\n",
        "plt.plot(slr.val_loss, label = 'Validation loss')\n",
        "plt.legend()\n",
        "plt.xlabel('iteration')\n",
        "plt.ylabel('Loss')\n",
        "plt.title('Learning curve')\n",
        "plt.show()"
      ],
      "metadata": {
        "id": "RNYuqkmunVxd",
        "colab": {
          "base_uri": "https://localhost:8080/",
          "height": 295
        },
        "outputId": "3dd8eba0-abba-4359-8191-a0d5c121ec5a"
      },
      "execution_count": null,
      "outputs": [
        {
          "output_type": "display_data",
          "data": {
            "text/plain": [
              "<Figure size 432x288 with 1 Axes>"
            ],
            "image/png": "[encoded data removed]"
          },
          "metadata": {
            "needs_background": "light"
          }
        }
      ]
    }
  ]
}