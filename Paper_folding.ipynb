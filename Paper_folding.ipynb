{
  "nbformat": 4,
  "nbformat_minor": 0,
  "metadata": {
    "colab": {
      "provenance": [],
      "collapsed_sections": [],
      "toc_visible": true,
      "authorship_tag": "ABX9TyM8WlfzxNccQhF/kBwtQHy1",
      "include_colab_link": true
    },
    "kernelspec": {
      "name": "python3",
      "display_name": "Python 3"
    },
    "language_info": {
      "name": "python"
    }
  },
  "cells": [
    {
      "cell_type": "markdown",
      "metadata": {
        "id": "view-in-github",
        "colab_type": "text"
      },
      "source": [
        "<a href=\"https://colab.research.google.com/github/Otgonbtr/Dive_into_code/blob/main/Paper_folding.ipynb\" target=\"_parent\"><img src=\"https://colab.research.google.com/assets/colab-badge.svg\" alt=\"Open In Colab\"/></a>"
      ]
    },
    {
      "cell_type": "markdown",
      "source": [
        "Problem 1:"
      ],
      "metadata": {
        "id": "JF91Ykwgi2CS"
      }
    },
    {
      "cell_type": "code",
      "execution_count": null,
      "metadata": {
        "colab": {
          "base_uri": "https://localhost:8080/"
        },
        "id": "aG3Jtr-xb2oi",
        "outputId": "f42d5dbe-333d-45c3-be5c-61521f643163"
      },
      "outputs": [
        {
          "output_type": "stream",
          "name": "stdout",
          "text": [
            "Thickness: 703687441.77664 meters\n"
          ]
        }
      ],
      "source": [
        "THICKNESS = 0.00008\n",
        "for i in range(0,43):\n",
        "  THICKNESS *=  2\n",
        "print(\"Thickness: {} meters\".format(THICKNESS))\n"
      ]
    },
    {
      "cell_type": "markdown",
      "source": [
        "Problem 2:"
      ],
      "metadata": {
        "id": "FwdR1nMpi7QR"
      }
    },
    {
      "cell_type": "code",
      "source": [
        "folded_thickness_km = THICKNESS/1000\n",
        "print(\"{}\".format(folded_thickness_km))\n",
        "print(\"{} km away from the moon.\".format(folded_thickness_km-384400))"
      ],
      "metadata": {
        "colab": {
          "base_uri": "https://localhost:8080/"
        },
        "id": "O-OYd1NOjAjS",
        "outputId": "fae97c75-4fd3-43bb-cb0c-665449e8f31b"
      },
      "execution_count": null,
      "outputs": [
        {
          "output_type": "stream",
          "name": "stdout",
          "text": [
            "703687.44177664\n",
            "319287.44177664 km away from the moon.\n"
          ]
        }
      ]
    },
    {
      "cell_type": "markdown",
      "source": [
        "Problem 3:"
      ],
      "metadata": {
        "id": "I9XMdb73puOD"
      }
    },
    {
      "cell_type": "code",
      "source": [
        "T = 0.00008\n",
        "aT = 2**43\n",
        "f = T * aT\n",
        "print(\"Thickness: {} meters\".format(f))"
      ],
      "metadata": {
        "id": "2rQg_QPOpzDJ",
        "colab": {
          "base_uri": "https://localhost:8080/"
        },
        "outputId": "8f737a6f-371a-4ce7-c855-8f926fa16ed7"
      },
      "execution_count": null,
      "outputs": [
        {
          "output_type": "stream",
          "name": "stdout",
          "text": [
            "Thickness: 703687441.77664 meters\n"
          ]
        }
      ]
    },
    {
      "cell_type": "markdown",
      "source": [
        "Problem 4:"
      ],
      "metadata": {
        "id": "ExvBxv89qMHh"
      }
    },
    {
      "cell_type": "code",
      "source": [
        "import time\n",
        "import timeit\n",
        "start = time.time()\n",
        "\n",
        "T = 0.00008\n",
        "aT = 2**43\n",
        "f = T * aT\n",
        "print(\"Thickness: {} meters\".format(f))\n",
        "\n",
        "elapsed_time = time.time() - start\n",
        "print(\"No loop , time : {}[s]\".format(elapsed_time))\n",
        "\n"
      ],
      "metadata": {
        "colab": {
          "base_uri": "https://localhost:8080/"
        },
        "id": "EqOVXZBKqOez",
        "outputId": "a3cf442a-7f07-40d4-f107-45ae961bd25e"
      },
      "execution_count": 20,
      "outputs": [
        {
          "output_type": "stream",
          "name": "stdout",
          "text": [
            "Thickness: 703687441.77664 meters\n",
            "No loop , time : 0.005496978759765625[s]\n",
            "Thickness: 703687441.77664 meters\n",
            "14.5 ns ± 0.0921 ns per loop (mean ± std. dev. of 7 runs, 100000000 loops each)\n"
          ]
        }
      ]
    },
    {
      "cell_type": "code",
      "source": [
        "\n",
        "THICKNESS = 0.00008\n",
        "for i in range(0,43):\n",
        "  THICKNESS *=  2\n",
        "print(\"Thickness: {} meters\".format(THICKNESS))\n",
        "%timeit -n1 time.sleep(0)"
      ],
      "metadata": {
        "colab": {
          "base_uri": "https://localhost:8080/"
        },
        "id": "gYSFGjJr6Ef3",
        "outputId": "ed7df869-1d1e-47bd-9d15-f6547558a22e"
      },
      "execution_count": 44,
      "outputs": [
        {
          "output_type": "stream",
          "name": "stdout",
          "text": [
            "Thickness: 703687441.77664 meters\n",
            "2 s ± 78.4 µs per loop (mean ± std. dev. of 7 runs, 1 loop each)\n"
          ]
        }
      ]
    },
    {
      "cell_type": "markdown",
      "source": [
        "Problem 5:"
      ],
      "metadata": {
        "id": "M158GnDJvt0j"
      }
    },
    {
      "cell_type": "code",
      "source": [
        "import numpy as np\n",
        "a = np.array(np.arange(43))\n",
        "THICKNESS = 0.00008\n",
        "for i in range(0, 43):\n",
        "  THICKNESS *= 2\n",
        "  a[i] =THICKNESS\n",
        "print(a)\n",
        "len(a)\n"
      ],
      "metadata": {
        "id": "rGlmVnzJvte8",
        "colab": {
          "base_uri": "https://localhost:8080/"
        },
        "outputId": "c4ac24e6-1312-4221-ebc5-20911ccea3b8"
      },
      "execution_count": null,
      "outputs": [
        {
          "output_type": "stream",
          "name": "stdout",
          "text": [
            "[        0         0         0         0         0         0         0\n",
            "         0         0         0         0         0         0         1\n",
            "         2         5        10        20        41        83       167\n",
            "       335       671      1342      2684      5368     10737     21474\n",
            "     42949     85899    171798    343597    687194   1374389   2748779\n",
            "   5497558  10995116  21990232  43980465  87960930 175921860 351843720\n",
            " 703687441]\n"
          ]
        },
        {
          "output_type": "execute_result",
          "data": {
            "text/plain": [
              "43"
            ]
          },
          "metadata": {},
          "execution_count": 107
        }
      ]
    },
    {
      "cell_type": "markdown",
      "source": [
        "Problem 6:"
      ],
      "metadata": {
        "id": "1kf3RiKwnBhl"
      }
    },
    {
      "cell_type": "code",
      "source": [
        "import matplotlib.pyplot as plt\n",
        "%matplotlib inline\n",
        "\n",
        "# \n",
        "plt.title(\"thickness of folded paper\")\n",
        "plt.xlabel(\"number of folds\")\n",
        "plt.ylabel(\"thickness [km]\")\n",
        "\n",
        "x = np.array(np.arange(43))\n",
        "y = a\n",
        "plt.plot(x,y)  # \n",
        "plt.show()\n"
      ],
      "metadata": {
        "colab": {
          "base_uri": "https://localhost:8080/",
          "height": 295
        },
        "id": "4K4IwkbBnJaR",
        "outputId": "7ffb062a-94b7-48db-ea1e-a36bd7015c6a"
      },
      "execution_count": null,
      "outputs": [
        {
          "output_type": "display_data",
          "data": {
            "text/plain": [
              "<Figure size 432x288 with 1 Axes>"
            ],
            "image/png": "[encoded data removed]"
          },
          "metadata": {
            "needs_background": "light"
          }
        }
      ]
    },
    {
      "cell_type": "markdown",
      "source": [
        "Problem 7"
      ],
      "metadata": {
        "id": "yKpyMv18xfCP"
      }
    },
    {
      "cell_type": "code",
      "source": [
        "import matplotlib.pyplot as plt\n",
        "%matplotlib inline\n",
        "\n",
        "# \n",
        "plt.title(\"thickness of folded paper\")\n",
        "plt.xlabel(\"number of folds\")\n",
        "plt.ylabel(\"thickness[m]\")\n",
        "plt.tick_params(labelsize=20) #\n",
        "x = np.array(np.arange(43))\n",
        "y = a\n",
        "plt.plot(x,y,color='k', marker='.',linestyle='dashed',linewidth=2, markersize=5)   \n",
        "plt.show()"
      ],
      "metadata": {
        "colab": {
          "base_uri": "https://localhost:8080/",
          "height": 304
        },
        "id": "dJb935JvxeDq",
        "outputId": "93092fab-5339-4e7a-935f-3c35a44b8e19"
      },
      "execution_count": null,
      "outputs": [
        {
          "output_type": "display_data",
          "data": {
            "text/plain": [
              "<Figure size 432x288 with 1 Axes>"
            ],
            "image/png": "[encoded data removed]"
          },
          "metadata": {
            "needs_background": "light"
          }
        }
      ]
    }
  ]
}