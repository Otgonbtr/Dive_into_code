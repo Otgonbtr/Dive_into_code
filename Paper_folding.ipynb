{
  "nbformat": 4,
  "nbformat_minor": 0,
  "metadata": {
    "colab": {
      "provenance": [],
      "collapsed_sections": [],
      "toc_visible": true,
      "authorship_tag": "ABX9TyOkpHO84PounPTiiP7l3fbJ",
      "include_colab_link": true
    },
    "kernelspec": {
      "name": "python3",
      "display_name": "Python 3"
    },
    "language_info": {
      "name": "python"
    }
  },
  "cells": [
    {
      "cell_type": "markdown",
      "metadata": {
        "id": "view-in-github",
        "colab_type": "text"
      },
      "source": [
        "<a href=\"https://colab.research.google.com/github/Otgonbtr/Dive_into_code/blob/main/Paper_folding.ipynb\" target=\"_parent\"><img src=\"https://colab.research.google.com/assets/colab-badge.svg\" alt=\"Open In Colab\"/></a>"
      ]
    },
    {
      "cell_type": "markdown",
      "source": [
        "Problem 1:"
      ],
      "metadata": {
        "id": "JF91Ykwgi2CS"
      }
    },
    {
      "cell_type": "code",
      "execution_count": 112,
      "metadata": {
        "colab": {
          "base_uri": "https://localhost:8080/"
        },
        "id": "aG3Jtr-xb2oi",
        "outputId": "440500f4-49bf-4cce-e412-2552a43ac14c"
      },
      "outputs": [
        {
          "output_type": "stream",
          "name": "stdout",
          "text": [
            "Thickness: 703687441.77664 meters\n"
          ]
        }
      ],
      "source": [
        "THICKNESS = 0.00008\n",
        "for i in range(0,43):\n",
        "  THICKNESS *=  2\n",
        "print(\"Thickness: {} meters\".format(THICKNESS))\n"
      ]
    },
    {
      "cell_type": "markdown",
      "source": [
        "Problem 2:"
      ],
      "metadata": {
        "id": "FwdR1nMpi7QR"
      }
    },
    {
      "cell_type": "code",
      "source": [
        "folded_thickness_km = THICKNESS/1000\n",
        "print(\"{}\".format(folded_thickness_km))\n",
        "print(\"{} km away from the moon.\".format(folded_thickness_km-384400))"
      ],
      "metadata": {
        "colab": {
          "base_uri": "https://localhost:8080/"
        },
        "id": "O-OYd1NOjAjS",
        "outputId": "fae97c75-4fd3-43bb-cb0c-665449e8f31b"
      },
      "execution_count": 113,
      "outputs": [
        {
          "output_type": "stream",
          "name": "stdout",
          "text": [
            "703687.44177664\n",
            "319287.44177664 km away from the moon.\n"
          ]
        }
      ]
    },
    {
      "cell_type": "markdown",
      "source": [
        "Problem 3:"
      ],
      "metadata": {
        "id": "I9XMdb73puOD"
      }
    },
    {
      "cell_type": "code",
      "source": [
        "T = 0.00008\n",
        "aT = 2**43\n",
        "f = T * aT\n",
        "print(\"Thickness: {} meters\".format(f))"
      ],
      "metadata": {
        "id": "2rQg_QPOpzDJ",
        "colab": {
          "base_uri": "https://localhost:8080/"
        },
        "outputId": "8f737a6f-371a-4ce7-c855-8f926fa16ed7"
      },
      "execution_count": null,
      "outputs": [
        {
          "output_type": "stream",
          "name": "stdout",
          "text": [
            "Thickness: 703687441.77664 meters\n"
          ]
        }
      ]
    },
    {
      "cell_type": "markdown",
      "source": [
        "Problem 4:"
      ],
      "metadata": {
        "id": "ExvBxv89qMHh"
      }
    },
    {
      "cell_type": "code",
      "source": [
        "import time\n",
        "start = time.time()\n",
        "\n",
        "T = 0.00008\n",
        "aT = 2**43\n",
        "f = T * aT\n",
        "print(\"Thickness: {} meters\".format(f))\n",
        "\n",
        "elapsed_time = time.time() - start\n",
        "print(\"No loop , time : {}[s]\".format(elapsed_time))\n",
        "\n",
        "\n",
        "\n",
        "start = time.time()\n",
        "\n",
        "THICKNESS = 0.00008\n",
        "for i in range(0,43):\n",
        "  THICKNESS *=  2\n",
        "print(\"Thickness: {} meters\".format(THICKNESS))\n",
        "\n",
        "elapsed_time = time.time() - start\n",
        "print(\"for loop , time : {}[s]\".format(elapsed_time))\n",
        "\n"
      ],
      "metadata": {
        "colab": {
          "base_uri": "https://localhost:8080/"
        },
        "id": "EqOVXZBKqOez",
        "outputId": "e298ffab-4aaf-41b8-ab36-5e23bf981ecf"
      },
      "execution_count": 108,
      "outputs": [
        {
          "output_type": "stream",
          "name": "stdout",
          "text": [
            "Thickness: 703687441.77664 meters\n",
            "No loop , time : 0.0016751289367675781[s]\n",
            "Thickness: 703687441.77664 meters\n",
            "for loop , time : 0.0012290477752685547[s]\n"
          ]
        }
      ]
    },
    {
      "cell_type": "markdown",
      "source": [
        "Problem 5:"
      ],
      "metadata": {
        "id": "M158GnDJvt0j"
      }
    },
    {
      "cell_type": "code",
      "source": [
        "import numpy as np\n",
        "a = np.array(np.arange(43))\n",
        "THICKNESS = 0.00008\n",
        "for i in range(0, 43):\n",
        "  THICKNESS *= 2\n",
        "  a[i] =THICKNESS\n",
        "print(a)\n",
        "len(a)\n"
      ],
      "metadata": {
        "id": "rGlmVnzJvte8",
        "colab": {
          "base_uri": "https://localhost:8080/"
        },
        "outputId": "c4ac24e6-1312-4221-ebc5-20911ccea3b8"
      },
      "execution_count": 107,
      "outputs": [
        {
          "output_type": "stream",
          "name": "stdout",
          "text": [
            "[        0         0         0         0         0         0         0\n",
            "         0         0         0         0         0         0         1\n",
            "         2         5        10        20        41        83       167\n",
            "       335       671      1342      2684      5368     10737     21474\n",
            "     42949     85899    171798    343597    687194   1374389   2748779\n",
            "   5497558  10995116  21990232  43980465  87960930 175921860 351843720\n",
            " 703687441]\n"
          ]
        },
        {
          "output_type": "execute_result",
          "data": {
            "text/plain": [
              "43"
            ]
          },
          "metadata": {},
          "execution_count": 107
        }
      ]
    },
    {
      "cell_type": "markdown",
      "source": [
        "Problem 6:"
      ],
      "metadata": {
        "id": "1kf3RiKwnBhl"
      }
    },
    {
      "cell_type": "code",
      "source": [
        "import matplotlib.pyplot as plt\n",
        "%matplotlib inline\n",
        "\n",
        "# \n",
        "plt.title(\"thickness of folded paper\")\n",
        "plt.xlabel(\"number of folds\")\n",
        "plt.ylabel(\"thickness [km]\")\n",
        "\n",
        "x = np.array(np.arange(43))\n",
        "y = a\n",
        "plt.plot(x,y)  # \n",
        "plt.show()\n"
      ],
      "metadata": {
        "colab": {
          "base_uri": "https://localhost:8080/",
          "height": 295
        },
        "id": "4K4IwkbBnJaR",
        "outputId": "7ffb062a-94b7-48db-ea1e-a36bd7015c6a"
      },
      "execution_count": 97,
      "outputs": [
        {
          "output_type": "display_data",
          "data": {
            "text/plain": [
              "<Figure size 432x288 with 1 Axes>"
            ],
            "image/png": "[encoded data removed]"
          },
          "metadata": {
            "needs_background": "light"
          }
        }
      ]
    },
    {
      "cell_type": "markdown",
      "source": [
        "Problem 7"
      ],
      "metadata": {
        "id": "yKpyMv18xfCP"
      }
    },
    {
      "cell_type": "code",
      "source": [
        "import matplotlib.pyplot as plt\n",
        "%matplotlib inline\n",
        "\n",
        "# \n",
        "plt.title(\"thickness of folded paper\")\n",
        "plt.xlabel(\"number of folds\")\n",
        "plt.ylabel(\"thickness[m]\")\n",
        "plt.tick_params(labelsize=20) #\n",
        "x = np.array(np.arange(43))\n",
        "y = a\n",
        "plt.plot(x,y,color='k', marker='.',linestyle='dashed',linewidth=2, markersize=12)   \n",
        "plt.show()"
      ],
      "metadata": {
        "colab": {
          "base_uri": "https://localhost:8080/",
          "height": 304
        },
        "id": "dJb935JvxeDq",
        "outputId": "4240caac-1230-46b8-9707-6dd2cc98cdec"
      },
      "execution_count": 106,
      "outputs": [
        {
          "output_type": "display_data",
          "data": {
            "text/plain": [
              "<Figure size 432x288 with 1 Axes>"
            ],
            "image/png": "[encoded data removed]"
          },
          "metadata": {
            "needs_background": "light"
          }
        }
      ]
    }
  ]
}